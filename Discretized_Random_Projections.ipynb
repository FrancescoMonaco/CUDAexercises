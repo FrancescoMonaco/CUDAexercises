{
  "nbformat": 4,
  "nbformat_minor": 0,
  "metadata": {
    "colab": {
      "provenance": [],
      "authorship_tag": "ABX9TyNMS6u4fZuvvTyGaOHWupMp",
      "include_colab_link": true
    },
    "kernelspec": {
      "name": "python3",
      "display_name": "Python 3"
    },
    "language_info": {
      "name": "python"
    }
  },
  "cells": [
    {
      "cell_type": "markdown",
      "metadata": {
        "id": "view-in-github",
        "colab_type": "text"
      },
      "source": [
        "<a href=\"https://colab.research.google.com/github/FrancescoMonaco/CUDAexercises/blob/main/Discretized_Random_Projections.ipynb\" target=\"_parent\"><img src=\"https://colab.research.google.com/assets/colab-badge.svg\" alt=\"Open In Colab\"/></a>"
      ]
    },
    {
      "cell_type": "code",
      "execution_count": null,
      "metadata": {
        "id": "8WHOAHorl9P0"
      },
      "outputs": [],
      "source": [
        "%%writefile drp.cu\n",
        "#include<math.h>\n",
        "\n",
        "class DiscretizedRandomProjections{\n",
        "  public:\n",
        "    DiscretizedRandomProjections(int dim, int r, int K, int L):\n",
        "    dim(dim), r(r), K(K), L(L), random_state(random_state){\n",
        "      int sqrtL = int(sqrt(L));\n",
        "      int K_half = int(K/2);\n",
        "    }\n",
        "\n",
        "   auto compute_hash(const int[] sub, const DiscretizedRandomProjections rp);\n",
        "\n",
        "  private:\n",
        "    int dim;\n",
        "    int r;\n",
        "    int K;\n",
        "    int L;\n",
        "\n",
        "\n",
        "\n",
        "\n",
        "}\n",
        "\n",
        "\n",
        "void main(int argc, char** argv){\n",
        "\n",
        "  return;\n",
        "}"
      ]
    },
    {
      "cell_type": "code",
      "source": [
        "%%shell\n",
        "nvcc"
      ],
      "metadata": {
        "id": "mTXQxl5Zmxuv"
      },
      "execution_count": null,
      "outputs": []
    }
  ]
}